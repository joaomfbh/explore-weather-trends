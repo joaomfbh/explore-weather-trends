{
 "cells": [
  {
   "cell_type": "markdown",
   "metadata": {},
   "source": [
    "## Explore weather trends\n",
    "The first project from Data Analyst Nanodegree program."
   ]
  },
  {
   "cell_type": "markdown",
   "metadata": {},
   "source": [
    "## Introduction"
   ]
  },
  {
   "cell_type": "markdown",
   "metadata": {},
   "source": [
    "This jupyter notebook file is a evolution from the original project submitted, that was builded in Excel.\n",
    "My goal was to create the code as I learned the data analysis techniques in Python.\n",
    "\n",
    "The dataset available (weather_trends.csv) was gathered through the sql workspace provided by Udacity. You'll found data like year, city, country, city average temperature and global average temperature.\n",
    "The city is Belo Horizonte, from Brazil because is where i live. The years is from 1832 to 2013 where:\n",
    "\n",
    "- The five initital years (1832 to 1837) were droped because the moving average is calculated starting in year 1838;\n",
    "- The years 1844 to 1850 don't exists in the dataset don't know why;"
   ]
  },
  {
   "cell_type": "markdown",
   "metadata": {},
   "source": [
    "## Import libraries"
   ]
  },
  {
   "cell_type": "code",
   "execution_count": 1,
   "metadata": {
    "scrolled": true
   },
   "outputs": [],
   "source": [
    "# import libraries\n",
    "import pandas as pd\n",
    "import numpy as np\n",
    "import matplotlib.pyplot as plt\n",
    "%matplotlib inline\n",
    "import seaborn as sns\n",
    "sns.set_style('darkgrid')"
   ]
  },
  {
   "cell_type": "markdown",
   "metadata": {},
   "source": [
    "### Data Wrangle"
   ]
  },
  {
   "cell_type": "code",
   "execution_count": 3,
   "metadata": {},
   "outputs": [],
   "source": [
    "df = pd.read_csv('datasets/weather_trends.csv')"
   ]
  },
  {
   "cell_type": "code",
   "execution_count": 4,
   "metadata": {},
   "outputs": [
    {
     "name": "stdout",
     "output_type": "stream",
     "text": [
      "<class 'pandas.core.frame.DataFrame'>\n",
      "RangeIndex: 175 entries, 0 to 174\n",
      "Data columns (total 5 columns):\n",
      " #   Column           Non-Null Count  Dtype  \n",
      "---  ------           --------------  -----  \n",
      " 0   year             175 non-null    int64  \n",
      " 1   city             175 non-null    object \n",
      " 2   country          175 non-null    object \n",
      " 3   avg_temp         175 non-null    float64\n",
      " 4   avg_temp_global  175 non-null    float64\n",
      "dtypes: float64(2), int64(1), object(2)\n",
      "memory usage: 7.0+ KB\n"
     ]
    }
   ],
   "source": [
    "df.info()"
   ]
  },
  {
   "cell_type": "code",
   "execution_count": 4,
   "metadata": {
    "scrolled": true
   },
   "outputs": [],
   "source": [
    "# 7 years moving average\n",
    "df['mva_local'] = df['avg_temp'].rolling(7).mean()"
   ]
  },
  {
   "cell_type": "code",
   "execution_count": 5,
   "metadata": {},
   "outputs": [],
   "source": [
    "# 7 years moving average\n",
    "df['mva_global'] = df['avg_temp_global'].rolling(7).mean()"
   ]
  },
  {
   "cell_type": "code",
   "execution_count": 6,
   "metadata": {},
   "outputs": [
    {
     "data": {
      "text/html": [
       "<div>\n",
       "<style scoped>\n",
       "    .dataframe tbody tr th:only-of-type {\n",
       "        vertical-align: middle;\n",
       "    }\n",
       "\n",
       "    .dataframe tbody tr th {\n",
       "        vertical-align: top;\n",
       "    }\n",
       "\n",
       "    .dataframe thead th {\n",
       "        text-align: right;\n",
       "    }\n",
       "</style>\n",
       "<table border=\"1\" class=\"dataframe\">\n",
       "  <thead>\n",
       "    <tr style=\"text-align: right;\">\n",
       "      <th></th>\n",
       "      <th>year</th>\n",
       "      <th>city</th>\n",
       "      <th>country</th>\n",
       "      <th>avg_temp</th>\n",
       "      <th>avg_temp_global</th>\n",
       "      <th>mva_local</th>\n",
       "      <th>mva_global</th>\n",
       "    </tr>\n",
       "  </thead>\n",
       "  <tbody>\n",
       "    <tr>\n",
       "      <th>0</th>\n",
       "      <td>1832</td>\n",
       "      <td>Belo Horizonte</td>\n",
       "      <td>Brazil</td>\n",
       "      <td>20.31</td>\n",
       "      <td>7.45</td>\n",
       "      <td>NaN</td>\n",
       "      <td>NaN</td>\n",
       "    </tr>\n",
       "    <tr>\n",
       "      <th>1</th>\n",
       "      <td>1833</td>\n",
       "      <td>Belo Horizonte</td>\n",
       "      <td>Brazil</td>\n",
       "      <td>21.29</td>\n",
       "      <td>8.01</td>\n",
       "      <td>NaN</td>\n",
       "      <td>NaN</td>\n",
       "    </tr>\n",
       "    <tr>\n",
       "      <th>2</th>\n",
       "      <td>1834</td>\n",
       "      <td>Belo Horizonte</td>\n",
       "      <td>Brazil</td>\n",
       "      <td>20.58</td>\n",
       "      <td>8.15</td>\n",
       "      <td>NaN</td>\n",
       "      <td>NaN</td>\n",
       "    </tr>\n",
       "    <tr>\n",
       "      <th>3</th>\n",
       "      <td>1835</td>\n",
       "      <td>Belo Horizonte</td>\n",
       "      <td>Brazil</td>\n",
       "      <td>19.99</td>\n",
       "      <td>7.39</td>\n",
       "      <td>NaN</td>\n",
       "      <td>NaN</td>\n",
       "    </tr>\n",
       "    <tr>\n",
       "      <th>4</th>\n",
       "      <td>1836</td>\n",
       "      <td>Belo Horizonte</td>\n",
       "      <td>Brazil</td>\n",
       "      <td>20.21</td>\n",
       "      <td>7.70</td>\n",
       "      <td>NaN</td>\n",
       "      <td>NaN</td>\n",
       "    </tr>\n",
       "    <tr>\n",
       "      <th>5</th>\n",
       "      <td>1837</td>\n",
       "      <td>Belo Horizonte</td>\n",
       "      <td>Brazil</td>\n",
       "      <td>19.65</td>\n",
       "      <td>7.38</td>\n",
       "      <td>NaN</td>\n",
       "      <td>NaN</td>\n",
       "    </tr>\n",
       "    <tr>\n",
       "      <th>6</th>\n",
       "      <td>1838</td>\n",
       "      <td>Belo Horizonte</td>\n",
       "      <td>Brazil</td>\n",
       "      <td>20.09</td>\n",
       "      <td>7.51</td>\n",
       "      <td>20.302857</td>\n",
       "      <td>7.655714</td>\n",
       "    </tr>\n",
       "    <tr>\n",
       "      <th>7</th>\n",
       "      <td>1839</td>\n",
       "      <td>Belo Horizonte</td>\n",
       "      <td>Brazil</td>\n",
       "      <td>19.89</td>\n",
       "      <td>7.63</td>\n",
       "      <td>20.242857</td>\n",
       "      <td>7.681429</td>\n",
       "    </tr>\n",
       "    <tr>\n",
       "      <th>8</th>\n",
       "      <td>1840</td>\n",
       "      <td>Belo Horizonte</td>\n",
       "      <td>Brazil</td>\n",
       "      <td>20.57</td>\n",
       "      <td>7.80</td>\n",
       "      <td>20.140000</td>\n",
       "      <td>7.651429</td>\n",
       "    </tr>\n",
       "    <tr>\n",
       "      <th>9</th>\n",
       "      <td>1841</td>\n",
       "      <td>Belo Horizonte</td>\n",
       "      <td>Brazil</td>\n",
       "      <td>20.26</td>\n",
       "      <td>7.69</td>\n",
       "      <td>20.094286</td>\n",
       "      <td>7.585714</td>\n",
       "    </tr>\n",
       "    <tr>\n",
       "      <th>10</th>\n",
       "      <td>1842</td>\n",
       "      <td>Belo Horizonte</td>\n",
       "      <td>Brazil</td>\n",
       "      <td>20.69</td>\n",
       "      <td>8.02</td>\n",
       "      <td>20.194286</td>\n",
       "      <td>7.675714</td>\n",
       "    </tr>\n",
       "    <tr>\n",
       "      <th>11</th>\n",
       "      <td>1843</td>\n",
       "      <td>Belo Horizonte</td>\n",
       "      <td>Brazil</td>\n",
       "      <td>20.83</td>\n",
       "      <td>8.17</td>\n",
       "      <td>20.282857</td>\n",
       "      <td>7.742857</td>\n",
       "    </tr>\n",
       "    <tr>\n",
       "      <th>12</th>\n",
       "      <td>1851</td>\n",
       "      <td>Belo Horizonte</td>\n",
       "      <td>Brazil</td>\n",
       "      <td>20.80</td>\n",
       "      <td>8.18</td>\n",
       "      <td>20.447143</td>\n",
       "      <td>7.857143</td>\n",
       "    </tr>\n",
       "    <tr>\n",
       "      <th>13</th>\n",
       "      <td>1852</td>\n",
       "      <td>Belo Horizonte</td>\n",
       "      <td>Brazil</td>\n",
       "      <td>20.96</td>\n",
       "      <td>8.10</td>\n",
       "      <td>20.571429</td>\n",
       "      <td>7.941429</td>\n",
       "    </tr>\n",
       "    <tr>\n",
       "      <th>14</th>\n",
       "      <td>1853</td>\n",
       "      <td>Belo Horizonte</td>\n",
       "      <td>Brazil</td>\n",
       "      <td>20.98</td>\n",
       "      <td>8.04</td>\n",
       "      <td>20.727143</td>\n",
       "      <td>8.000000</td>\n",
       "    </tr>\n",
       "    <tr>\n",
       "      <th>15</th>\n",
       "      <td>1854</td>\n",
       "      <td>Belo Horizonte</td>\n",
       "      <td>Brazil</td>\n",
       "      <td>21.06</td>\n",
       "      <td>8.21</td>\n",
       "      <td>20.797143</td>\n",
       "      <td>8.058571</td>\n",
       "    </tr>\n",
       "    <tr>\n",
       "      <th>16</th>\n",
       "      <td>1855</td>\n",
       "      <td>Belo Horizonte</td>\n",
       "      <td>Brazil</td>\n",
       "      <td>21.10</td>\n",
       "      <td>8.11</td>\n",
       "      <td>20.917143</td>\n",
       "      <td>8.118571</td>\n",
       "    </tr>\n",
       "    <tr>\n",
       "      <th>17</th>\n",
       "      <td>1856</td>\n",
       "      <td>Belo Horizonte</td>\n",
       "      <td>Brazil</td>\n",
       "      <td>20.14</td>\n",
       "      <td>8.00</td>\n",
       "      <td>20.838571</td>\n",
       "      <td>8.115714</td>\n",
       "    </tr>\n",
       "    <tr>\n",
       "      <th>18</th>\n",
       "      <td>1857</td>\n",
       "      <td>Belo Horizonte</td>\n",
       "      <td>Brazil</td>\n",
       "      <td>20.62</td>\n",
       "      <td>7.76</td>\n",
       "      <td>20.808571</td>\n",
       "      <td>8.057143</td>\n",
       "    </tr>\n",
       "    <tr>\n",
       "      <th>19</th>\n",
       "      <td>1858</td>\n",
       "      <td>Belo Horizonte</td>\n",
       "      <td>Brazil</td>\n",
       "      <td>19.79</td>\n",
       "      <td>8.10</td>\n",
       "      <td>20.664286</td>\n",
       "      <td>8.045714</td>\n",
       "    </tr>\n",
       "  </tbody>\n",
       "</table>\n",
       "</div>"
      ],
      "text/plain": [
       "    year            city country  avg_temp  avg_temp_global  mva_local  \\\n",
       "0   1832  Belo Horizonte  Brazil     20.31             7.45        NaN   \n",
       "1   1833  Belo Horizonte  Brazil     21.29             8.01        NaN   \n",
       "2   1834  Belo Horizonte  Brazil     20.58             8.15        NaN   \n",
       "3   1835  Belo Horizonte  Brazil     19.99             7.39        NaN   \n",
       "4   1836  Belo Horizonte  Brazil     20.21             7.70        NaN   \n",
       "5   1837  Belo Horizonte  Brazil     19.65             7.38        NaN   \n",
       "6   1838  Belo Horizonte  Brazil     20.09             7.51  20.302857   \n",
       "7   1839  Belo Horizonte  Brazil     19.89             7.63  20.242857   \n",
       "8   1840  Belo Horizonte  Brazil     20.57             7.80  20.140000   \n",
       "9   1841  Belo Horizonte  Brazil     20.26             7.69  20.094286   \n",
       "10  1842  Belo Horizonte  Brazil     20.69             8.02  20.194286   \n",
       "11  1843  Belo Horizonte  Brazil     20.83             8.17  20.282857   \n",
       "12  1851  Belo Horizonte  Brazil     20.80             8.18  20.447143   \n",
       "13  1852  Belo Horizonte  Brazil     20.96             8.10  20.571429   \n",
       "14  1853  Belo Horizonte  Brazil     20.98             8.04  20.727143   \n",
       "15  1854  Belo Horizonte  Brazil     21.06             8.21  20.797143   \n",
       "16  1855  Belo Horizonte  Brazil     21.10             8.11  20.917143   \n",
       "17  1856  Belo Horizonte  Brazil     20.14             8.00  20.838571   \n",
       "18  1857  Belo Horizonte  Brazil     20.62             7.76  20.808571   \n",
       "19  1858  Belo Horizonte  Brazil     19.79             8.10  20.664286   \n",
       "\n",
       "    mva_global  \n",
       "0          NaN  \n",
       "1          NaN  \n",
       "2          NaN  \n",
       "3          NaN  \n",
       "4          NaN  \n",
       "5          NaN  \n",
       "6     7.655714  \n",
       "7     7.681429  \n",
       "8     7.651429  \n",
       "9     7.585714  \n",
       "10    7.675714  \n",
       "11    7.742857  \n",
       "12    7.857143  \n",
       "13    7.941429  \n",
       "14    8.000000  \n",
       "15    8.058571  \n",
       "16    8.118571  \n",
       "17    8.115714  \n",
       "18    8.057143  \n",
       "19    8.045714  "
      ]
     },
     "execution_count": 6,
     "metadata": {},
     "output_type": "execute_result"
    }
   ],
   "source": [
    "df.head(20)"
   ]
  },
  {
   "cell_type": "code",
   "execution_count": 7,
   "metadata": {},
   "outputs": [],
   "source": [
    "df.dropna(inplace=True)"
   ]
  },
  {
   "cell_type": "code",
   "execution_count": 8,
   "metadata": {},
   "outputs": [
    {
     "name": "stdout",
     "output_type": "stream",
     "text": [
      "<class 'pandas.core.frame.DataFrame'>\n",
      "Int64Index: 169 entries, 6 to 174\n",
      "Data columns (total 7 columns):\n",
      " #   Column           Non-Null Count  Dtype  \n",
      "---  ------           --------------  -----  \n",
      " 0   year             169 non-null    int64  \n",
      " 1   city             169 non-null    object \n",
      " 2   country          169 non-null    object \n",
      " 3   avg_temp         169 non-null    float64\n",
      " 4   avg_temp_global  169 non-null    float64\n",
      " 5   mva_local        169 non-null    float64\n",
      " 6   mva_global       169 non-null    float64\n",
      "dtypes: float64(4), int64(1), object(2)\n",
      "memory usage: 10.6+ KB\n"
     ]
    }
   ],
   "source": [
    "df.info()"
   ]
  },
  {
   "cell_type": "code",
   "execution_count": 9,
   "metadata": {},
   "outputs": [
    {
     "data": {
      "text/plain": [
       "count    169.000000\n",
       "mean      21.067861\n",
       "std        0.448277\n",
       "min       20.094286\n",
       "25%       20.770000\n",
       "50%       21.037143\n",
       "75%       21.310000\n",
       "max       22.052857\n",
       "Name: mva_local, dtype: float64"
      ]
     },
     "execution_count": 9,
     "metadata": {},
     "output_type": "execute_result"
    }
   ],
   "source": [
    "df['mva_local'].describe()"
   ]
  },
  {
   "cell_type": "code",
   "execution_count": 10,
   "metadata": {
    "scrolled": false
   },
   "outputs": [
    {
     "data": {
      "text/plain": [
       "count    169.000000\n",
       "mean       8.500845\n",
       "std        0.437642\n",
       "min        7.585714\n",
       "25%        8.181429\n",
       "50%        8.535714\n",
       "75%        8.702857\n",
       "max        9.588571\n",
       "Name: mva_global, dtype: float64"
      ]
     },
     "execution_count": 10,
     "metadata": {},
     "output_type": "execute_result"
    }
   ],
   "source": [
    "df['mva_global'].describe()"
   ]
  },
  {
   "cell_type": "code",
   "execution_count": 25,
   "metadata": {},
   "outputs": [
    {
     "data": {
      "text/html": [
       "<div>\n",
       "<style scoped>\n",
       "    .dataframe tbody tr th:only-of-type {\n",
       "        vertical-align: middle;\n",
       "    }\n",
       "\n",
       "    .dataframe tbody tr th {\n",
       "        vertical-align: top;\n",
       "    }\n",
       "\n",
       "    .dataframe thead th {\n",
       "        text-align: right;\n",
       "    }\n",
       "</style>\n",
       "<table border=\"1\" class=\"dataframe\">\n",
       "  <thead>\n",
       "    <tr style=\"text-align: right;\">\n",
       "      <th></th>\n",
       "      <th>year</th>\n",
       "      <th>mva_local</th>\n",
       "      <th>mva_global</th>\n",
       "    </tr>\n",
       "  </thead>\n",
       "  <tbody>\n",
       "    <tr>\n",
       "      <th>155</th>\n",
       "      <td>1994</td>\n",
       "      <td>21.610000</td>\n",
       "      <td>9.040000</td>\n",
       "    </tr>\n",
       "    <tr>\n",
       "      <th>156</th>\n",
       "      <td>1995</td>\n",
       "      <td>21.672857</td>\n",
       "      <td>9.061429</td>\n",
       "    </tr>\n",
       "    <tr>\n",
       "      <th>157</th>\n",
       "      <td>1996</td>\n",
       "      <td>21.734286</td>\n",
       "      <td>9.078571</td>\n",
       "    </tr>\n",
       "    <tr>\n",
       "      <th>158</th>\n",
       "      <td>1997</td>\n",
       "      <td>21.738571</td>\n",
       "      <td>9.074286</td>\n",
       "    </tr>\n",
       "    <tr>\n",
       "      <th>159</th>\n",
       "      <td>1998</td>\n",
       "      <td>21.870000</td>\n",
       "      <td>9.122857</td>\n",
       "    </tr>\n",
       "    <tr>\n",
       "      <th>160</th>\n",
       "      <td>1999</td>\n",
       "      <td>21.904286</td>\n",
       "      <td>9.187143</td>\n",
       "    </tr>\n",
       "    <tr>\n",
       "      <th>161</th>\n",
       "      <td>2000</td>\n",
       "      <td>21.868571</td>\n",
       "      <td>9.234286</td>\n",
       "    </tr>\n",
       "    <tr>\n",
       "      <th>162</th>\n",
       "      <td>2001</td>\n",
       "      <td>21.901429</td>\n",
       "      <td>9.287143</td>\n",
       "    </tr>\n",
       "    <tr>\n",
       "      <th>163</th>\n",
       "      <td>2002</td>\n",
       "      <td>21.962857</td>\n",
       "      <td>9.318571</td>\n",
       "    </tr>\n",
       "    <tr>\n",
       "      <th>164</th>\n",
       "      <td>2003</td>\n",
       "      <td>22.037143</td>\n",
       "      <td>9.388571</td>\n",
       "    </tr>\n",
       "    <tr>\n",
       "      <th>165</th>\n",
       "      <td>2004</td>\n",
       "      <td>21.991429</td>\n",
       "      <td>9.405714</td>\n",
       "    </tr>\n",
       "    <tr>\n",
       "      <th>166</th>\n",
       "      <td>2005</td>\n",
       "      <td>21.948571</td>\n",
       "      <td>9.431429</td>\n",
       "    </tr>\n",
       "    <tr>\n",
       "      <th>167</th>\n",
       "      <td>2006</td>\n",
       "      <td>21.981429</td>\n",
       "      <td>9.465714</td>\n",
       "    </tr>\n",
       "    <tr>\n",
       "      <th>168</th>\n",
       "      <td>2007</td>\n",
       "      <td>22.052857</td>\n",
       "      <td>9.541429</td>\n",
       "    </tr>\n",
       "    <tr>\n",
       "      <th>169</th>\n",
       "      <td>2008</td>\n",
       "      <td>22.012857</td>\n",
       "      <td>9.544286</td>\n",
       "    </tr>\n",
       "    <tr>\n",
       "      <th>170</th>\n",
       "      <td>2009</td>\n",
       "      <td>21.977143</td>\n",
       "      <td>9.535714</td>\n",
       "    </tr>\n",
       "    <tr>\n",
       "      <th>171</th>\n",
       "      <td>2010</td>\n",
       "      <td>21.982857</td>\n",
       "      <td>9.560000</td>\n",
       "    </tr>\n",
       "    <tr>\n",
       "      <th>172</th>\n",
       "      <td>2011</td>\n",
       "      <td>22.004286</td>\n",
       "      <td>9.588571</td>\n",
       "    </tr>\n",
       "    <tr>\n",
       "      <th>173</th>\n",
       "      <td>2012</td>\n",
       "      <td>22.020000</td>\n",
       "      <td>9.561429</td>\n",
       "    </tr>\n",
       "    <tr>\n",
       "      <th>174</th>\n",
       "      <td>2013</td>\n",
       "      <td>21.987143</td>\n",
       "      <td>9.572857</td>\n",
       "    </tr>\n",
       "  </tbody>\n",
       "</table>\n",
       "</div>"
      ],
      "text/plain": [
       "     year  mva_local  mva_global\n",
       "155  1994  21.610000    9.040000\n",
       "156  1995  21.672857    9.061429\n",
       "157  1996  21.734286    9.078571\n",
       "158  1997  21.738571    9.074286\n",
       "159  1998  21.870000    9.122857\n",
       "160  1999  21.904286    9.187143\n",
       "161  2000  21.868571    9.234286\n",
       "162  2001  21.901429    9.287143\n",
       "163  2002  21.962857    9.318571\n",
       "164  2003  22.037143    9.388571\n",
       "165  2004  21.991429    9.405714\n",
       "166  2005  21.948571    9.431429\n",
       "167  2006  21.981429    9.465714\n",
       "168  2007  22.052857    9.541429\n",
       "169  2008  22.012857    9.544286\n",
       "170  2009  21.977143    9.535714\n",
       "171  2010  21.982857    9.560000\n",
       "172  2011  22.004286    9.588571\n",
       "173  2012  22.020000    9.561429\n",
       "174  2013  21.987143    9.572857"
      ]
     },
     "execution_count": 25,
     "metadata": {},
     "output_type": "execute_result"
    }
   ],
   "source": [
    "df_final.tail(20)"
   ]
  },
  {
   "cell_type": "markdown",
   "metadata": {},
   "source": [
    "### Plot"
   ]
  },
  {
   "cell_type": "code",
   "execution_count": 11,
   "metadata": {},
   "outputs": [],
   "source": [
    "df_final = df.iloc[:, np.r_[0,5,6]]"
   ]
  },
  {
   "cell_type": "code",
   "execution_count": 12,
   "metadata": {},
   "outputs": [
    {
     "name": "stdout",
     "output_type": "stream",
     "text": [
      "<class 'pandas.core.frame.DataFrame'>\n",
      "Int64Index: 169 entries, 6 to 174\n",
      "Data columns (total 3 columns):\n",
      " #   Column      Non-Null Count  Dtype  \n",
      "---  ------      --------------  -----  \n",
      " 0   year        169 non-null    int64  \n",
      " 1   mva_local   169 non-null    float64\n",
      " 2   mva_global  169 non-null    float64\n",
      "dtypes: float64(2), int64(1)\n",
      "memory usage: 5.3 KB\n"
     ]
    }
   ],
   "source": [
    "df_final.info()"
   ]
  },
  {
   "cell_type": "code",
   "execution_count": 29,
   "metadata": {},
   "outputs": [
    {
     "data": {
      "text/plain": [
       "<matplotlib.axes._subplots.AxesSubplot at 0x7fdd40586590>"
      ]
     },
     "execution_count": 29,
     "metadata": {},
     "output_type": "execute_result"
    },
    {
     "data": {
      "image/png": "[encoded data removed]",
      "text/plain": [
       "<Figure size 1080x576 with 1 Axes>"
      ]
     },
     "metadata": {},
     "output_type": "display_data"
    }
   ],
   "source": [
    "df_final.plot(0, figsize=(15,8))"
   ]
  },
  {
   "cell_type": "code",
   "execution_count": 24,
   "metadata": {},
   "outputs": [
    {
     "ename": "NameError",
     "evalue": "name 'xlim' is not defined",
     "output_type": "error",
     "traceback": [
      "\u001b[0;31m---------------------------------------------------------------------------\u001b[0m",
      "\u001b[0;31mNameError\u001b[0m                                 Traceback (most recent call last)",
      "\u001b[0;32m<ipython-input-24-744f9a06d58f>\u001b[0m in \u001b[0;36m<module>\u001b[0;34m\u001b[0m\n\u001b[0;32m----> 1\u001b[0;31m \u001b[0mxmin\u001b[0m\u001b[0;34m,\u001b[0m \u001b[0mxmax\u001b[0m \u001b[0;34m=\u001b[0m \u001b[0mxlim\u001b[0m\u001b[0;34m(\u001b[0m\u001b[0;34m)\u001b[0m\u001b[0;34m\u001b[0m\u001b[0;34m\u001b[0m\u001b[0m\n\u001b[0m",
      "\u001b[0;31mNameError\u001b[0m: name 'xlim' is not defined"
     ]
    }
   ],
   "source": [
    "xmin, xmax = xlim()"
   ]
  },
  {
   "cell_type": "code",
   "execution_count": null,
   "metadata": {},
   "outputs": [],
   "source": []
  }
 ],
 "metadata": {
  "kernelspec": {
   "display_name": "Python 3",
   "language": "python",
   "name": "python3"
  },
  "language_info": {
   "codemirror_mode": {
    "name": "ipython",
    "version": 3
   },
   "file_extension": ".py",
   "mimetype": "text/x-python",
   "name": "python",
   "nbconvert_exporter": "python",
   "pygments_lexer": "ipython3",
   "version": "3.8.3"
  }
 },
 "nbformat": 4,
 "nbformat_minor": 4
}
